{
 "cells": [
  {
   "cell_type": "code",
   "execution_count": 5,
   "id": "fc538f5e",
   "metadata": {},
   "outputs": [],
   "source": [
    "import pandas as pd\n",
    "import os\n",
    "from collections import defaultdict\n",
    "import matplotlib.pyplot as plt\n",
    "import numpy as np\n",
    "import os"
   ]
  },
  {
   "cell_type": "markdown",
   "id": "864e3abf",
   "metadata": {},
   "source": [
    "# Working with PASSION Dataset\n",
    "\n",
    "✨ Thank you for your interest in exploring the **PASSION dataset**! ✨ \n",
    "\n",
    "In this notebook, we’ll take you on a quick walkthrough of the dataset’s essentials 🗂️, guiding you through its structure, key features, and basic commands to help you interact with it efficiently. Whether you're here to analyze 📊, visualize 📈, or develop models 🤖, this guide will provide a solid foundation for working with PASSION dataset.\n",
    "\n",
    "Let’s dive in and get started! 🚀\n"
   ]
  },
  {
   "cell_type": "code",
   "execution_count": 7,
   "id": "d490e142",
   "metadata": {},
   "outputs": [
    {
     "name": "stdout",
     "output_type": "stream",
     "text": [
      "Current working directory: /Users/gloriastucchi/Downloads/PASSION_MICCAI_2024\n"
     ]
    }
   ],
   "source": [
    "# print the current working directory\n",
    "print(\"Current working directory:\", os.getcwd())\n",
    "csv=\"./label.csv\"\n",
    "image_folder_path=\"./images\""
   ]
  },
  {
   "cell_type": "markdown",
   "id": "1e06b56a",
   "metadata": {},
   "source": [
    "## Dataset Overview\n",
    "\n",
    "Below, you’ll find a preview of the **PASSION dataset**, showing the first few entries. This dataset contains a range of demographic and clinical information about study subjects from four african countries 🌍. Each row represents an individual participant, along with details about their characteristics and diagnosed conditions. Here’s a breakdown of the columns you’ll encounter:\n",
    "\n",
    "- **subject_id**: Unique identifier for each participant.\n",
    "- **country**: Country of origin for the participant.\n",
    "- **age**: Age of the participant in years.\n",
    "- **sex**: Sex of the participant, denoted by 'm' (male) or 'f' (female).\n",
    "- **fitzpatrick**: Fitzpatrick skin type, represented numerically, which classifies skin based on its reaction to light ☀️.\n",
    "- **body_loc**: Specific locations on the body affected, listed as semicolon-separated values.\n",
    "- **impetig**: Indicates the presence (`1.0`) or absence (`0.0`) of impetigo.\n",
    "- **conditions_PASSION**: Primary diagnosed skin condition, such as eczema or scabies.\n",
    "\n",
    "This overview offers a glimpse into the diverse health data within PASSION, capturing a spectrum of dermatological conditions in different populations. Let’s explore this data in more detail and see how it can inform insights into dermatological health across regions. 📊\n"
   ]
  },
  {
   "cell_type": "code",
   "execution_count": 8,
   "id": "6fde6bbc",
   "metadata": {},
   "outputs": [
    {
     "data": {
      "text/html": [
       "<div>\n",
       "<style scoped>\n",
       "    .dataframe tbody tr th:only-of-type {\n",
       "        vertical-align: middle;\n",
       "    }\n",
       "\n",
       "    .dataframe tbody tr th {\n",
       "        vertical-align: top;\n",
       "    }\n",
       "\n",
       "    .dataframe thead th {\n",
       "        text-align: right;\n",
       "    }\n",
       "</style>\n",
       "<table border=\"1\" class=\"dataframe\">\n",
       "  <thead>\n",
       "    <tr style=\"text-align: right;\">\n",
       "      <th></th>\n",
       "      <th>subject_id</th>\n",
       "      <th>country</th>\n",
       "      <th>age</th>\n",
       "      <th>sex</th>\n",
       "      <th>fitzpatrick</th>\n",
       "      <th>body_loc</th>\n",
       "      <th>impetig</th>\n",
       "      <th>conditions_PASSION</th>\n",
       "    </tr>\n",
       "  </thead>\n",
       "  <tbody>\n",
       "    <tr>\n",
       "      <th>0</th>\n",
       "      <td>AA00970008</td>\n",
       "      <td>Madagascar</td>\n",
       "      <td>7</td>\n",
       "      <td>m</td>\n",
       "      <td>3</td>\n",
       "      <td>hair; pelvic; arm; leg</td>\n",
       "      <td>1.0</td>\n",
       "      <td>Eczema</td>\n",
       "    </tr>\n",
       "    <tr>\n",
       "      <th>1</th>\n",
       "      <td>AA00970009</td>\n",
       "      <td>Madagascar</td>\n",
       "      <td>3</td>\n",
       "      <td>m</td>\n",
       "      <td>4</td>\n",
       "      <td>back; hair; face; foot; hand; torso; arm; leg</td>\n",
       "      <td>1.0</td>\n",
       "      <td>Eczema</td>\n",
       "    </tr>\n",
       "    <tr>\n",
       "      <th>2</th>\n",
       "      <td>AA00970025</td>\n",
       "      <td>Madagascar</td>\n",
       "      <td>3</td>\n",
       "      <td>m</td>\n",
       "      <td>3</td>\n",
       "      <td>torso</td>\n",
       "      <td>0.0</td>\n",
       "      <td>Others</td>\n",
       "    </tr>\n",
       "    <tr>\n",
       "      <th>3</th>\n",
       "      <td>AA00970040</td>\n",
       "      <td>Madagascar</td>\n",
       "      <td>7</td>\n",
       "      <td>m</td>\n",
       "      <td>4</td>\n",
       "      <td>arm; foot; hand; torso; leg</td>\n",
       "      <td>1.0</td>\n",
       "      <td>Scabies</td>\n",
       "    </tr>\n",
       "    <tr>\n",
       "      <th>4</th>\n",
       "      <td>AA00970047</td>\n",
       "      <td>Madagascar</td>\n",
       "      <td>74</td>\n",
       "      <td>m</td>\n",
       "      <td>3</td>\n",
       "      <td>back; pelvic; arm; hand; torso; leg</td>\n",
       "      <td>0.0</td>\n",
       "      <td>Scabies</td>\n",
       "    </tr>\n",
       "  </tbody>\n",
       "</table>\n",
       "</div>"
      ],
      "text/plain": [
       "   subject_id     country  age sex  fitzpatrick  \\\n",
       "0  AA00970008  Madagascar    7   m            3   \n",
       "1  AA00970009  Madagascar    3   m            4   \n",
       "2  AA00970025  Madagascar    3   m            3   \n",
       "3  AA00970040  Madagascar    7   m            4   \n",
       "4  AA00970047  Madagascar   74   m            3   \n",
       "\n",
       "                                        body_loc  impetig conditions_PASSION  \n",
       "0                         hair; pelvic; arm; leg      1.0             Eczema  \n",
       "1  back; hair; face; foot; hand; torso; arm; leg      1.0             Eczema  \n",
       "2                                          torso      0.0             Others  \n",
       "3                    arm; foot; hand; torso; leg      1.0            Scabies  \n",
       "4            back; pelvic; arm; hand; torso; leg      0.0            Scabies  "
      ]
     },
     "execution_count": 8,
     "metadata": {},
     "output_type": "execute_result"
    }
   ],
   "source": [
    "df = pd.read_csv(csv)\n",
    "df.head()"
   ]
  },
  {
   "cell_type": "markdown",
   "id": "c2ab7a3f",
   "metadata": {},
   "source": [
    "## Linking CSV Data with Image Files\n",
    "\n",
    "To effectively analyze the PASSION dataset alongside its associated image files, it is crucial to establish a clear connection between the subject IDs in the CSV file and the filenames of the images. This linkage enables us to correlate the clinical data with the visual data, providing richer insights. Here’s a step-by-step guide on how we will achieve this with an example:\n",
    "\n",
    "1. **Understanding Subject IDs in Filenames**: Each image filename contains a unique `subject_id` that corresponds to a participant in the PASSION dataset. The subject ID typically appears as a prefix in the filename, formatted as `{subject_id}_{integer}.jpg`, where `integer` may indicate the order or count of images related to that specific case.\n",
    "\n",
    "2. **Extracting Subject IDs from Image Filenames**: We will extract the subject IDs from the list of image filenames. This process involves splitting each filename at the underscore `_` and retrieving the first segment, which corresponds to the `subject_id`. This step ensures we have a clear list of all subject IDs represented in the image files.\n",
    "\n",
    "3. **Creating a Mapping from the CSV**: The PASSION dataset is stored in a CSV file that includes a `subject_id` column along with additional details such as the participant's country. We will convert this CSV data into a dictionary that maps each `subject_id` to its corresponding country. This mapping is essential for associating each image with its relevant demographic information from the dataset.\n",
    "\n",
    "4. **Counting Images and Cases by Country**: With both the extracted subject IDs and the country mapping in hand, we will count how many images exist for each country. This involves iterating over the extracted subject IDs and tallying the images based on their associated country. Additionally, we will determine the number of unique cases (distinct subject IDs) for each country using the original CSV data. This comprehensive counting allows us to understand the distribution of images and cases across different regions.\n",
    "\n",
    "By following these steps, we can efficiently link the PASSION dataset to its corresponding images, facilitating a thorough analysis of the relationship between visual data and the clinical information captured in the dataset. Let’s dive into the implementation! 🗂️📊\n"
   ]
  },
  {
   "cell_type": "code",
   "execution_count": 9,
   "id": "ae75ed08",
   "metadata": {},
   "outputs": [],
   "source": [
    "image_files = os.listdir(image_folder_path)"
   ]
  },
  {
   "cell_type": "code",
   "execution_count": 10,
   "id": "455aed60",
   "metadata": {},
   "outputs": [
    {
     "name": "stdout",
     "output_type": "stream",
     "text": [
      "Total matching images: 4901\n",
      "Image count per country:\n",
      "Malawi: 2150\n",
      "Madagascar: 2185\n",
      "Guinea: 480\n",
      "Tanzania: 86\n",
      "\n",
      "Total cases: 1653\n",
      "Case count per country:\n",
      "Madagascar: 985\n",
      "Guinea: 384\n",
      "Tanzania: 23\n",
      "Malawi: 261\n"
     ]
    }
   ],
   "source": [
    "# Extract unique subject_ids from image filenames\n",
    "image_subject_ids = [file.split('_')[0] for file in image_files]\n",
    "\n",
    "# Create a dictionary mapping subject_id to country from the DataFrame\n",
    "subject_country_map = df.set_index('subject_id')['country'].to_dict()\n",
    "\n",
    "# Initialize dictionaries to count images and cases per country\n",
    "country_image_count = defaultdict(int)\n",
    "country_case_count = defaultdict(int)\n",
    "total_image_count = 0\n",
    "\n",
    "# Count images per country\n",
    "for subject_id in image_subject_ids:\n",
    "    if subject_id in subject_country_map:  # Check if subject_id exists in the DataFrame\n",
    "        country = subject_country_map[subject_id]\n",
    "        country_image_count[country] += 1\n",
    "        total_image_count += 1\n",
    "\n",
    "# Count unique cases per country\n",
    "for country in df['country'].unique():\n",
    "    country_cases = df[df['country'] == country]['subject_id'].nunique()\n",
    "    country_case_count[country] = country_cases\n",
    "\n",
    "# Print the total image count, counts of images per country, and case counts per country\n",
    "print(f\"Total matching images: {total_image_count}\")\n",
    "print(\"Image count per country:\")\n",
    "for country, count in country_image_count.items():\n",
    "    print(f\"{country}: {count}\")\n",
    "\n",
    "print(f\"\\nTotal cases: {len(df)}\")\n",
    "print(\"Case count per country:\")\n",
    "for country, count in country_case_count.items():\n",
    "    print(f\"{country}: {count}\")"
   ]
  },
  {
   "cell_type": "markdown",
   "id": "db132468",
   "metadata": {},
   "source": [
    "## Important Notice ⚠️\n",
    "\n",
    "Please note that the number of cases reported from **Madagascar** in this analysis is correct, as there was a **typo in the original paper**. Thank you for your understanding!\n"
   ]
  },
  {
   "cell_type": "markdown",
   "id": "3cb5641b",
   "metadata": {},
   "source": [
    "## Extracting and Comparing Subject IDs\n",
    "\n",
    "In this section, we will extract unique subject IDs from the image filenames and compare them with the subject IDs present in the PASSION dataset. This comparison helps us identify any discrepancies between the images and the data records. Here’s how we will approach this task:\n",
    "\n",
    "1. **Extracting Unique Subject IDs from Filenames**: We will create a set of unique `subject_ids` by parsing the filenames of the images. Each filename contains a prefix formatted as `{subject_id}_{integer}.jpg`, allowing us to isolate the `subject_id`.\n",
    "\n",
    "2. **Getting Subject IDs from the DataFrame**: Next, we will retrieve all `subject_ids` from the DataFrame and store them in another set. This will allow us to easily compare the two collections of IDs.\n",
    "\n",
    "3. **Identifying Unmatched Subject IDs**: We will perform set operations to find:\n",
    "   - **Unmatched Subject IDs in Images**: Those `subject_ids` extracted from the image filenames that do not have corresponding entries in the DataFrame.\n",
    "   - **Unmatched Subject IDs in the DataFrame**: Those `subject_ids` in the DataFrame that are not represented in the image files.\n",
    "\n",
    "4. **Displaying Results**: Finally, we will print the unmatched `subject_ids` from both the images and the DataFrame, providing insight into any missing links between the visual data and clinical records. \n",
    "\n",
    "By conducting this check, we ensure that our analysis is based on a complete and accurate dataset, identifying any potential issues that may need to be addressed. Let’s proceed with the implementation! 🔍📂\n"
   ]
  },
  {
   "cell_type": "code",
   "execution_count": 11,
   "id": "9d7b16d9",
   "metadata": {},
   "outputs": [
    {
     "name": "stdout",
     "output_type": "stream",
     "text": [
      "All subject IDs in images have corresponding patient data in the DataFrame.\n",
      "All subject IDs in the DataFrame have corresponding images.\n"
     ]
    }
   ],
   "source": [
    "# Extract unique subject_ids from image filenames\n",
    "image_subject_ids = set([file.split('_')[0] for file in image_files])\n",
    "\n",
    "# Get all subject_ids from the DataFrame\n",
    "df_subject_ids = set(df['subject_id'])\n",
    "\n",
    "# Find subject_ids in images that are not in the DataFrame\n",
    "unmatched_image_subject_ids = image_subject_ids - df_subject_ids\n",
    "\n",
    "# Find subject_ids in the DataFrame that are not in the images\n",
    "unmatched_df_subject_ids = df_subject_ids - image_subject_ids\n",
    "\n",
    "# Display results\n",
    "if unmatched_image_subject_ids:\n",
    "    print(\"Subject IDs in images without corresponding patients in the DataFrame:\")\n",
    "    for subject_id in unmatched_image_subject_ids:\n",
    "        print(subject_id)\n",
    "else:\n",
    "    print(\"All subject IDs in images have corresponding patient data in the DataFrame.\")\n",
    "\n",
    "if unmatched_df_subject_ids:\n",
    "    print(\"\\nSubject IDs in the DataFrame without corresponding images:\")\n",
    "    for subject_id in unmatched_df_subject_ids:\n",
    "        print(subject_id)\n",
    "else:\n",
    "    print(\"All subject IDs in the DataFrame have corresponding images.\")"
   ]
  },
  {
   "cell_type": "markdown",
   "id": "8e9ef808",
   "metadata": {},
   "source": [
    "## Regrouping Malawi and Tanzania data together"
   ]
  },
  {
   "cell_type": "code",
   "execution_count": 12,
   "id": "4e82dae3",
   "metadata": {},
   "outputs": [],
   "source": [
    "df['country'] = df['country'].replace({'Malawi': 'EAS', 'Tanzania': 'EAS'})"
   ]
  },
  {
   "cell_type": "markdown",
   "id": "63abec13",
   "metadata": {},
   "source": [
    "## Analyzing Conditions by Country\n",
    "\n",
    "In this section, we will analyze the relationship between the clinical conditions reported in the PASSION dataset and the countries of the participants. To achieve this, we will perform the following steps:\n",
    "\n",
    "1. **Splitting the 'Country' Column**: The `country` column may contain multiple entries for some participants, indicating that they may belong to more than one country. We will split these entries into separate rows. This process is called \"exploding\" the DataFrame, which allows us to have each country on a different row for the same participant.\n",
    "\n",
    "2. **Creating a Pivot Table**: After exploding the `country` column, we will create a pivot table that summarizes the data. In this pivot table:\n",
    "   - The **index** will consist of the different conditions recorded in the `conditions_PASSION` column.\n",
    "   - The **columns** will represent the different countries.\n",
    "   - The **values** will be the count of occurrences for each condition in each country. We will use `size` as our aggregation function to count the occurrences, and we will replace any missing values with `0`.\n",
    "\n",
    "3. **Reordering the Columns**: To facilitate comparison, we will reorder the columns of the pivot table according to a specified desired order of countries: **'Guinea', 'Madagascar', 'EAS'**.\n",
    "\n",
    "By executing these steps, we will be able to visually analyze how various conditions are distributed across different countries. Let’s implement this analysis! 🌍📊\n"
   ]
  },
  {
   "cell_type": "code",
   "execution_count": 13,
   "id": "ce0bfc31",
   "metadata": {},
   "outputs": [
    {
     "data": {
      "text/html": [
       "<div>\n",
       "<style scoped>\n",
       "    .dataframe tbody tr th:only-of-type {\n",
       "        vertical-align: middle;\n",
       "    }\n",
       "\n",
       "    .dataframe tbody tr th {\n",
       "        vertical-align: top;\n",
       "    }\n",
       "\n",
       "    .dataframe thead th {\n",
       "        text-align: right;\n",
       "    }\n",
       "</style>\n",
       "<table border=\"1\" class=\"dataframe\">\n",
       "  <thead>\n",
       "    <tr style=\"text-align: right;\">\n",
       "      <th>countries</th>\n",
       "      <th>Guinea</th>\n",
       "      <th>Madagascar</th>\n",
       "      <th>EAS</th>\n",
       "    </tr>\n",
       "    <tr>\n",
       "      <th>conditions_PASSION</th>\n",
       "      <th></th>\n",
       "      <th></th>\n",
       "      <th></th>\n",
       "    </tr>\n",
       "  </thead>\n",
       "  <tbody>\n",
       "    <tr>\n",
       "      <th>Eczema</th>\n",
       "      <td>57</td>\n",
       "      <td>301</td>\n",
       "      <td>56</td>\n",
       "    </tr>\n",
       "    <tr>\n",
       "      <th>Fungal</th>\n",
       "      <td>230</td>\n",
       "      <td>299</td>\n",
       "      <td>50</td>\n",
       "    </tr>\n",
       "    <tr>\n",
       "      <th>Others</th>\n",
       "      <td>39</td>\n",
       "      <td>29</td>\n",
       "      <td>121</td>\n",
       "    </tr>\n",
       "    <tr>\n",
       "      <th>Scabies</th>\n",
       "      <td>58</td>\n",
       "      <td>356</td>\n",
       "      <td>57</td>\n",
       "    </tr>\n",
       "  </tbody>\n",
       "</table>\n",
       "</div>"
      ],
      "text/plain": [
       "countries           Guinea  Madagascar  EAS\n",
       "conditions_PASSION                         \n",
       "Eczema                  57         301   56\n",
       "Fungal                 230         299   50\n",
       "Others                  39          29  121\n",
       "Scabies                 58         356   57"
      ]
     },
     "execution_count": 13,
     "metadata": {},
     "output_type": "execute_result"
    }
   ],
   "source": [
    "# Split the 'country' column lists into separate rows\n",
    "df_exploded_countries = df.assign(countries=df['country'].str.split(', ')).explode('countries')\n",
    "\n",
    "# Create a pivot table with conditions as index and countries as columns\n",
    "condition_country_pivot_table = df_exploded_countries.pivot_table(\n",
    "    index='conditions_PASSION',\n",
    "    columns='countries',\n",
    "    aggfunc='size',\n",
    "    fill_value=0\n",
    ")\n",
    "\n",
    "# Define the desired order of countries for the pivot table\n",
    "desired_country_order = ['Guinea', 'Madagascar', 'EAS']\n",
    "condition_country_pivot_table = condition_country_pivot_table[desired_country_order]\n",
    "\n",
    "# Display the pivot table\n",
    "condition_country_pivot_table\n"
   ]
  },
  {
   "cell_type": "markdown",
   "id": "abef4c0b",
   "metadata": {},
   "source": [
    "## Analyzing Body Localizations by Conditions\n",
    "\n",
    "In this section, we will focus on analyzing the primary body locations affected by different conditions reported in the PASSION dataset. The following steps will guide our analysis:\n",
    "\n",
    "1. **Creating the Main Localization Column**: We will first derive a new column called `MainLocalization` from the `body_loc` column. This new column will contain the primary body location for each participant, which is determined by taking the first entry from the list of body locations (if available). The `strip()` function is used to remove any leading or trailing whitespace. This ensures that we have a clean and focused representation of the main localization for further analysis.\n",
    "\n",
    "2. **Exploding the Main Localization Column**: Next, we will prepare the DataFrame for analysis by splitting any entries in the `MainLocalization` column into separate rows. This allows us to have each body location listed on a distinct row for each condition, facilitating a more straightforward aggregation.\n",
    "\n",
    "3. **Creating a Pivot Table**: We will create a pivot table to summarize the relationship between the conditions recorded in the `conditions_PASSION` column and the main body localizations:\n",
    "   - The **index** will consist of different conditions.\n",
    "   - The **columns** will represent the main body locations.\n",
    "   - The **values** will indicate the count of occurrences for each condition-body location combination. We will use the `size` aggregation function to count these occurrences, filling any missing values with `0`.\n",
    "\n",
    "By following these steps, we will gain insights into how various conditions correlate with the primary body locations affected. Let’s implement this analysis! 🏥📈\n"
   ]
  },
  {
   "cell_type": "code",
   "execution_count": 14,
   "id": "6144d494",
   "metadata": {},
   "outputs": [
    {
     "data": {
      "text/html": [
       "<div>\n",
       "<style scoped>\n",
       "    .dataframe tbody tr th:only-of-type {\n",
       "        vertical-align: middle;\n",
       "    }\n",
       "\n",
       "    .dataframe tbody tr th {\n",
       "        vertical-align: top;\n",
       "    }\n",
       "\n",
       "    .dataframe thead th {\n",
       "        text-align: right;\n",
       "    }\n",
       "</style>\n",
       "<table border=\"1\" class=\"dataframe\">\n",
       "  <thead>\n",
       "    <tr style=\"text-align: right;\">\n",
       "      <th>MainBodyLocalization</th>\n",
       "      <th>arm</th>\n",
       "      <th>back</th>\n",
       "      <th>face</th>\n",
       "      <th>foot</th>\n",
       "      <th>hair</th>\n",
       "      <th>hand</th>\n",
       "      <th>leg</th>\n",
       "      <th>pelvic</th>\n",
       "      <th>torso</th>\n",
       "    </tr>\n",
       "    <tr>\n",
       "      <th>conditions_PASSION</th>\n",
       "      <th></th>\n",
       "      <th></th>\n",
       "      <th></th>\n",
       "      <th></th>\n",
       "      <th></th>\n",
       "      <th></th>\n",
       "      <th></th>\n",
       "      <th></th>\n",
       "      <th></th>\n",
       "    </tr>\n",
       "  </thead>\n",
       "  <tbody>\n",
       "    <tr>\n",
       "      <th>Eczema</th>\n",
       "      <td>41</td>\n",
       "      <td>38</td>\n",
       "      <td>76</td>\n",
       "      <td>37</td>\n",
       "      <td>24</td>\n",
       "      <td>23</td>\n",
       "      <td>29</td>\n",
       "      <td>11</td>\n",
       "      <td>72</td>\n",
       "    </tr>\n",
       "    <tr>\n",
       "      <th>Fungal</th>\n",
       "      <td>32</td>\n",
       "      <td>33</td>\n",
       "      <td>33</td>\n",
       "      <td>35</td>\n",
       "      <td>198</td>\n",
       "      <td>36</td>\n",
       "      <td>41</td>\n",
       "      <td>23</td>\n",
       "      <td>109</td>\n",
       "    </tr>\n",
       "    <tr>\n",
       "      <th>Others</th>\n",
       "      <td>14</td>\n",
       "      <td>61</td>\n",
       "      <td>41</td>\n",
       "      <td>3</td>\n",
       "      <td>13</td>\n",
       "      <td>1</td>\n",
       "      <td>21</td>\n",
       "      <td>8</td>\n",
       "      <td>16</td>\n",
       "    </tr>\n",
       "    <tr>\n",
       "      <th>Scabies</th>\n",
       "      <td>13</td>\n",
       "      <td>147</td>\n",
       "      <td>1</td>\n",
       "      <td>21</td>\n",
       "      <td>0</td>\n",
       "      <td>76</td>\n",
       "      <td>10</td>\n",
       "      <td>54</td>\n",
       "      <td>126</td>\n",
       "    </tr>\n",
       "  </tbody>\n",
       "</table>\n",
       "</div>"
      ],
      "text/plain": [
       "MainBodyLocalization  arm  back  face  foot  hair  hand  leg  pelvic  torso\n",
       "conditions_PASSION                                                         \n",
       "Eczema                 41    38    76    37    24    23   29      11     72\n",
       "Fungal                 32    33    33    35   198    36   41      23    109\n",
       "Others                 14    61    41     3    13     1   21       8     16\n",
       "Scabies                13   147     1    21     0    76   10      54    126"
      ]
     },
     "execution_count": 14,
     "metadata": {},
     "output_type": "execute_result"
    }
   ],
   "source": [
    "# Create a new column for the main body localization by taking the first entry from 'body_loc'\n",
    "df['MainBodyLocalization'] = df['body_loc'].apply(lambda x: x.split(';')[0].strip() if pd.notna(x) else x)\n",
    "\n",
    "# Step 1: Split the main body localization lists into separate rows\n",
    "df_exploded_body_locations = df.assign(MainBodyLocalization=df['MainBodyLocalization'].str.split(', ')).explode('MainBodyLocalization')\n",
    "\n",
    "# Step 2: Create a pivot table with conditions as index and body locations as columns\n",
    "condition_body_location_pivot_table = df_exploded_body_locations.pivot_table(\n",
    "    index='conditions_PASSION',\n",
    "    columns='MainBodyLocalization',\n",
    "    aggfunc='size',\n",
    "    fill_value=0\n",
    ")\n",
    "\n",
    "# Display the result\n",
    "condition_body_location_pivot_table\n"
   ]
  },
  {
   "cell_type": "markdown",
   "id": "40fd7570",
   "metadata": {},
   "source": [
    "## Analyzing Impetigo Cases in the Dataset\n",
    "\n",
    "In this section, we will calculate and analyze the prevalence of impetigo cases within the PASSION dataset. Our objective is to determine both the total number of cases and the proportion of cases that involve impetigo. We will perform the following steps:\n",
    "\n",
    "1. **Calculating Total Cases**: We will first determine the total number of cases in the dataset by counting the number of rows in the DataFrame. This gives us an overview of the dataset size and provides context for subsequent calculations.\n",
    "\n",
    "2. **Counting Impetigo Cases**: Next, we will count the number of cases where impetigo is present. In the dataset, a value of `1` indicates the presence of impetigo, and we will sum this column to get the total number of impetigo cases.\n",
    "\n",
    "3. **Calculating the Impetigo Ratio**: We will then calculate the ratio of impetigo cases to the total number of cases. This ratio will help us understand the proportion of participants affected by impetigo relative to the overall dataset. To ensure we avoid any division by zero errors, we will check if the total number of cases is greater than zero before performing this calculation.\n",
    "\n",
    "4. **Displaying Results**: Finally, we will print the total number of cases, the number of impetigo cases, and the calculated impetigo ratio formatted to two decimal places for clarity.\n",
    "\n",
    "By analyzing these figures, we can gain insights into the prevalence of impetigo among the participants in the PASSION dataset. Let’s execute this analysis! 📊💉\n"
   ]
  },
  {
   "cell_type": "code",
   "execution_count": 15,
   "id": "8247371a",
   "metadata": {},
   "outputs": [
    {
     "name": "stdout",
     "output_type": "stream",
     "text": [
      "Total Cases: 1653\n",
      "Impetigo Cases: 191.0\n",
      "Impetigo Ratio: 0.12\n"
     ]
    }
   ],
   "source": [
    "total_cases = df.shape[0]  # Total number of rows in the DataFrame\n",
    "impetigo_cases = df['impetig'].sum()  # Count of impetigo cases (1 for presence)\n",
    "\n",
    "impetigo_ratio = impetigo_cases / total_cases if total_cases > 0 else 0  # Avoid division by zero\n",
    "\n",
    "# Display the results\n",
    "print(f\"Total Cases: {total_cases}\")\n",
    "print(f\"Impetigo Cases: {impetigo_cases}\")\n",
    "print(f\"Impetigo Ratio: {impetigo_ratio:.2f}\")  # Formatting the ratio to two decimal places"
   ]
  },
  {
   "cell_type": "markdown",
   "id": "5eacbeb2",
   "metadata": {},
   "source": [
    "## Visualizing the Distribution of Fitzpatrick Skin Types\n",
    "\n",
    "To gain deeper insights into the participant demographics within the PASSION dataset, we will visualize the distribution of Fitzpatrick skin types. The Fitzpatrick skin type classification is important for understanding how individuals' skin may react to various environmental factors, including sunlight exposure, and can influence dermatological conditions.\n",
    "\n",
    "### Steps for Visualization:\n",
    "1. **Counting Fitzpatrick Skin Types**: We will begin by counting the occurrences of each Fitzpatrick skin type in the dataset. This count will provide a clear overview of how many participants belong to each skin type category.\n",
    "\n",
    "2. **Creating the Bar Plot**: Next, we will create a bar plot to illustrate the distribution of these skin types visually. The x-axis will represent the different Fitzpatrick skin types, while the y-axis will indicate the number of participants associated with each type. This visualization will help us identify any prevalent skin types among the participants and facilitate a better understanding of the sample population.\n",
    "\n",
    "3. **Customization**: The plot will be customized with labels, a title, and a grid to enhance readability. We will also rotate the x-axis labels for better visibility, especially if there are many categories.\n",
    "\n",
    "By visualizing the distribution of Fitzpatrick skin types, we can better understand the demographic context of the dataset, which may be relevant for analyzing the clinical conditions represented in the PASSION dataset. Let’s create the plot! 📊✨\n"
   ]
  },
  {
   "cell_type": "code",
   "execution_count": 16,
   "id": "5732bcbd",
   "metadata": {},
   "outputs": [
    {
     "data": {
      "image/png": "[encoded data removed]",
      "text/plain": [
       "<Figure size 1000x600 with 1 Axes>"
      ]
     },
     "metadata": {},
     "output_type": "display_data"
    }
   ],
   "source": [
    "# Count the occurrences of each Fitzpatrick skin type\n",
    "fitzpatrick_counts = df['fitzpatrick'].value_counts().sort_index()\n",
    "\n",
    "# Create a simple bar plot for the Fitzpatrick skin type distribution\n",
    "plt.figure(figsize=(10, 6))\n",
    "plt.bar(fitzpatrick_counts.index.astype(str), fitzpatrick_counts.values, color='blue')  # Using a single color\n",
    "plt.title('Distribution of Fitzpatrick Skin Types in the PASSION Dataset', fontsize=16)\n",
    "plt.xlabel('Fitzpatrick Skin Type', fontsize=14)\n",
    "plt.ylabel('Number of Participants', fontsize=14)\n",
    "plt.xticks(rotation=0)  # No rotation for clarity\n",
    "plt.grid(axis='y')\n",
    "\n",
    "# Show the plot\n",
    "plt.tight_layout()\n",
    "plt.show()\n"
   ]
  },
  {
   "cell_type": "markdown",
   "id": "6fb27c1f",
   "metadata": {},
   "source": [
    "## Conclusion 🎉\n",
    "\n",
    "In this notebook, we explored the **PASSION dataset**, which provides valuable insights into various dermatological conditions and their associations with demographic factors such as age, sex, and Fitzpatrick skin type. Through our analysis, we achieved several key objectives:\n",
    "\n",
    "1. **Data Linking** 🔗: We successfully linked the clinical data from the CSV file with the corresponding image files, establishing a relationship between subject IDs and additional clinical information.\n",
    "\n",
    "2. **Country and Condition Analysis** 🌍: We examined the distribution of conditions across different countries, providing a clearer understanding of how these conditions vary geographically. Our pivot tables highlighted the prevalence of specific dermatological conditions in different regions.\n",
    "\n",
    "3. **Body Location and Condition Correlation** 📍: By exploding the body location data, we created visual representations that facilitate comparisons of conditions based on anatomical locations, aiding in the identification of patterns.\n",
    "\n",
    "4. **Fitzpatrick Skin Type Distribution** 🧑‍🤝‍🧑: The bar plot visualizing the distribution of Fitzpatrick skin types in the dataset revealed essential demographic insights. Understanding skin type prevalence is crucial for tailoring clinical approaches and treatments.\n",
    "\n",
    "Thank you for exploring the PASSION dataset with us! If you have any questions or suggestions for further analysis, please feel free to reach out per email at philippe.gottfrois@unibas.ch. 🙌\n"
   ]
  },
  {
   "cell_type": "markdown",
   "id": "15aba3e6",
   "metadata": {},
   "source": [
    "## Important Warning ⚠️\n",
    "\n",
    "We **do not permit the re-upload** of the PASSION dataset due to the sensitive nature of the data it contains. Users are urged to take full responsibility when utilizing examples from this dataset. If you need to use any data, please do so **wisely** to ensure the prevention of sharing sensitive images.\n",
    "\n",
    "It is important to note that there are plenty of images within the dataset that are **not sensitive**, and these can be used appropriately in your analyses or presentations. Thank you for your understanding and cooperation in maintaining data safety!\n",
    "\n",
    "Due to the sensitive nature of the data in the PASSION dataset, **uploading this data to a drive service may result in a ban** from the service provider, which is independent of our control. We strongly advise against sharing or uploading this dataset to any external platforms to avoid any repercussions.\n",
    "\n",
    "Please handle this data with the utmost care and responsibility. Thank you for your understanding and cooperation!"
   ]
  },
  {
   "cell_type": "code",
   "execution_count": null,
   "id": "73b3dfda",
   "metadata": {},
   "outputs": [],
   "source": []
  }
 ],
 "metadata": {
  "kernelspec": {
   "display_name": "fairai",
   "language": "python",
   "name": "python3"
  },
  "language_info": {
   "codemirror_mode": {
    "name": "ipython",
    "version": 3
   },
   "file_extension": ".py",
   "mimetype": "text/x-python",
   "name": "python",
   "nbconvert_exporter": "python",
   "pygments_lexer": "ipython3",
   "version": "3.12.2"
  }
 },
 "nbformat": 4,
 "nbformat_minor": 5
}
